{
 "cells": [
  {
   "cell_type": "code",
   "execution_count": 1,
   "metadata": {},
   "outputs": [],
   "source": [
    "import numpy as np\n",
    "import matplotlib.pyplot as plt\n",
    "from sklearn.mixture import GaussianMixture"
   ]
  },
  {
   "cell_type": "markdown",
   "metadata": {},
   "source": [
    "### The purpose if this notebook is to illustrate a behaviour of the Gaussian Mixture from the sklearn library.\n",
    "\n",
    "##### The data being used is from a greyscale video. When the GMM is trained with a warm start frame by frame with each frame's intermediates initializing the next frame's fit. However on some videos, components of the mixture are collapsed to a mean of (0,0) with a diagonal covariance matrix near zero.\n",
    "\n",
    "##### In this notebook we will hard load in the Gaussian Parameters from frame 33, the last frame without any collapsed components, and use them to initialize a new GMM and fit it to frame 44, the first frame to have collapsed components. This is to manually recreate the deterministic fitting process executed by a repetitive fitting process with the warm start option enabled."
   ]
  },
  {
   "cell_type": "code",
   "execution_count": 2,
   "metadata": {},
   "outputs": [],
   "source": [
    "frame_43_means = np.load('Frame_43_Means.npy')\n",
    "frame_43_weights = np.load('Frame_43_Weights.npy')\n",
    "frame_43_precisions = np.load('Frame_43_Precisions.npy')"
   ]
  },
  {
   "cell_type": "code",
   "execution_count": 3,
   "metadata": {},
   "outputs": [],
   "source": [
    "gmmodel = GaussianMixture(n_components=37,\n",
    "                          weights_init=frame_43_weights,\n",
    "                          means_init=frame_43_means,\n",
    "                          precisions_init=frame_43_precisions)"
   ]
  },
  {
   "cell_type": "code",
   "execution_count": 4,
   "metadata": {},
   "outputs": [],
   "source": [
    "Frame_44 = np.load('Frame_44.npy')"
   ]
  },
  {
   "cell_type": "code",
   "execution_count": 5,
   "metadata": {},
   "outputs": [
    {
     "data": {
      "text/plain": [
       "GaussianMixture(covariance_type='full', init_params='kmeans', max_iter=100,\n",
       "        means_init=array([[481.2324 ,  39.14145],\n",
       "       [491.51712,  35.85552],\n",
       "       ...,\n",
       "       [314.     , 173.5    ],\n",
       "       [316.99974, 173.50246]]),\n",
       "        n_components=37, n_init=1,\n",
       "        precisions_init=array([[[ 2.29009e-02, -8.89725e-03],\n",
       "        [-8.89725e-03,  5.52019e-01]],\n",
       "\n",
       "       [[ 7.84248e-03,  4.67864e-04],\n",
       "        [ 4.67864e-04,  1.29433e-02]],\n",
       "\n",
       "       ...,\n",
       "\n",
       "       [[ 1.00000e+06, -1.50459e-20],\n",
       "        [-1.50459e-20,  8.00002e-01]],\n",
       "\n",
       "       [[ 5.01030e-01, -1.84629e-04],\n",
       "        [-1.84629e-04,  8.01773e-01]]]),\n",
       "        random_state=None, reg_covar=1e-06, tol=0.001, verbose=0,\n",
       "        verbose_interval=10, warm_start=False,\n",
       "        weights_init=array([2.05289e-02, 2.29581e-02, 9.42917e-02, 2.94420e-02, 1.05504e-02,\n",
       "       9.11306e-03, 4.71835e-02, 3.36241e-02, 1.03742e-02, 4.32559e-02,\n",
       "       3.31737e-02, 1.63440e-03, 5.07165e-03, 3.68151e-02, 2.69876e-02,\n",
       "       3.72016e-02, 1.43807e-02, 1.11325e-01, 3.37293e-02, 7.66226e-03,...  2.59923e-02, 7.60422e-04, 1.42573e-03, 7.15028e-03, 1.64119e-03,\n",
       "       3.61611e-05, 1.79636e-04]))"
      ]
     },
     "execution_count": 5,
     "metadata": {},
     "output_type": "execute_result"
    }
   ],
   "source": [
    "gmmodel.fit(Frame_44)"
   ]
  },
  {
   "cell_type": "code",
   "execution_count": 6,
   "metadata": {},
   "outputs": [
    {
     "data": {
      "text/plain": [
       "array([[481.74605274,  40.08023884],\n",
       "       [492.74015697,  35.70246805],\n",
       "       [430.02985559,  79.71358583],\n",
       "       [463.24981071,  40.93883384],\n",
       "       [465.62399696,  63.70747612],\n",
       "       [459.62970025,  52.71500837],\n",
       "       [464.52748456,  83.37944407],\n",
       "       [444.58156774,  38.960547  ],\n",
       "       [416.51767094, 105.3791362 ],\n",
       "       [455.53017375,  39.15464515],\n",
       "       [428.81151278,  84.73919293],\n",
       "       [411.88842626, 138.4829791 ],\n",
       "       [400.3333386 , 118.3490203 ],\n",
       "       [421.20458661,  43.63564252],\n",
       "       [412.23181131, 105.55020876],\n",
       "       [384.56202719, 156.86824454],\n",
       "       [385.26173819, 123.95383413],\n",
       "       [405.56170916,  48.47593709],\n",
       "       [392.98244544,  47.89762665],\n",
       "       [368.7088693 ,  56.15076811],\n",
       "       [372.56367868, 133.63010603],\n",
       "       [376.07057691,  84.19886944],\n",
       "       [383.2410741 , 108.7251996 ],\n",
       "       [369.98015676, 121.38689411],\n",
       "       [350.09246556, 114.40364556],\n",
       "       [372.14945595,  70.92674119],\n",
       "       [344.19124846,  91.602553  ],\n",
       "       [374.01269034,  82.90250665],\n",
       "       [334.27472276, 141.37942169],\n",
       "       [352.3761018 , 150.10971408],\n",
       "       [350.86745524, 148.00742885],\n",
       "       [347.29651274, 159.74785398],\n",
       "       [335.2536661 , 154.63036836],\n",
       "       [336.74199768,  98.66063028],\n",
       "       [330.        , 155.49982782],\n",
       "       [  0.        ,   0.        ],\n",
       "       [  0.        ,   0.        ]])"
      ]
     },
     "execution_count": 6,
     "metadata": {},
     "output_type": "execute_result"
    }
   ],
   "source": [
    "gmmodel.means_"
   ]
  },
  {
   "cell_type": "code",
   "execution_count": 7,
   "metadata": {},
   "outputs": [
    {
     "data": {
      "text/plain": [
       "array([[[ 2.90552838e+01,  5.83558746e-01],\n",
       "        [ 5.83558746e-01,  2.17985882e+00]],\n",
       "\n",
       "       [[ 1.16883435e+02,  2.31066724e+00],\n",
       "        [ 2.31066724e+00,  7.80915177e+01]],\n",
       "\n",
       "       [[ 6.90468040e+02, -1.61505711e+01],\n",
       "        [-1.61505711e+01,  2.25183970e+02]],\n",
       "\n",
       "       [[ 9.31238118e+00, -1.70607566e+00],\n",
       "        [-1.70607566e+00,  3.97658159e+00]],\n",
       "\n",
       "       [[ 1.38169550e+01,  3.45884614e+00],\n",
       "        [ 3.45884614e+00,  7.28435916e+00]],\n",
       "\n",
       "       [[ 3.69974430e+00, -7.18751405e-03],\n",
       "        [-7.18751405e-03,  3.81412965e+00]],\n",
       "\n",
       "       [[ 7.75784005e+00, -7.42031926e-01],\n",
       "        [-7.42031926e-01,  2.88340585e+01]],\n",
       "\n",
       "       [[ 5.21179880e+01,  1.11622348e+01],\n",
       "        [ 1.11622348e+01,  5.63847974e+00]],\n",
       "\n",
       "       [[ 3.59834236e+01, -2.21480391e+01],\n",
       "        [-2.21480391e+01,  1.76751995e+01]],\n",
       "\n",
       "       [[ 3.43004557e+02,  3.40289476e+01],\n",
       "        [ 3.40289476e+01,  1.05396334e+02]],\n",
       "\n",
       "       [[ 1.94047233e+01, -9.52706047e-02],\n",
       "        [-9.52706047e-02,  1.08815862e+01]],\n",
       "\n",
       "       [[ 1.81603317e+01, -1.92038098e+00],\n",
       "        [-1.92038098e+00,  2.21968593e+01]],\n",
       "\n",
       "       [[ 1.97754008e+01,  1.62248480e+01],\n",
       "        [ 1.62248480e+01,  1.76881483e+01]],\n",
       "\n",
       "       [[ 3.52322898e+01,  5.59081211e-01],\n",
       "        [ 5.59081211e-01,  4.28078303e+00]],\n",
       "\n",
       "       [[ 1.09257874e+02, -3.52412810e+01],\n",
       "        [-3.52412810e+01,  1.49623851e+02]],\n",
       "\n",
       "       [[ 9.20102509e+01, -5.99221956e+01],\n",
       "        [-5.99221956e+01,  7.27631846e+01]],\n",
       "\n",
       "       [[ 2.49456005e+00, -4.34163706e+00],\n",
       "        [-4.34163706e+00,  3.00927701e+01]],\n",
       "\n",
       "       [[ 1.68341560e+02, -2.18153845e+01],\n",
       "        [-2.18153845e+01,  8.51607484e+01]],\n",
       "\n",
       "       [[ 4.67924284e+01, -2.22383794e+01],\n",
       "        [-2.22383794e+01,  1.66761452e+01]],\n",
       "\n",
       "       [[ 6.76166245e+01, -9.95422158e+01],\n",
       "        [-9.95422158e+01,  1.65657945e+02]],\n",
       "\n",
       "       [[ 1.17065758e+02,  1.30524524e+01],\n",
       "        [ 1.30524524e+01,  1.03813917e+02]],\n",
       "\n",
       "       [[ 4.55135862e+01, -5.82787940e+01],\n",
       "        [-5.82787940e+01,  1.72717355e+02]],\n",
       "\n",
       "       [[ 1.29463253e+02,  7.85961237e+01],\n",
       "        [ 7.85961237e+01,  1.95430551e+02]],\n",
       "\n",
       "       [[ 4.88259146e+01, -2.49392778e+01],\n",
       "        [-2.49392778e+01,  1.63562677e+01]],\n",
       "\n",
       "       [[ 1.99730422e+01,  1.17524589e+00],\n",
       "        [ 1.17524589e+00,  2.43318950e+02]],\n",
       "\n",
       "       [[ 6.22548159e+01, -3.79853159e+01],\n",
       "        [-3.79853159e+01,  5.05532734e+01]],\n",
       "\n",
       "       [[ 1.98283763e+01,  7.16813960e+00],\n",
       "        [ 7.16813960e+00,  2.35227279e+01]],\n",
       "\n",
       "       [[ 5.89922867e+00, -1.45239657e+01],\n",
       "        [-1.45239657e+01,  5.89076465e+01]],\n",
       "\n",
       "       [[ 5.75203393e+00, -9.46860397e-01],\n",
       "        [-9.46860397e-01,  1.10083633e+01]],\n",
       "\n",
       "       [[ 8.66719959e+01,  3.57005976e+01],\n",
       "        [ 3.57005976e+01,  4.96831903e+01]],\n",
       "\n",
       "       [[ 2.82685662e+01, -9.94693585e-01],\n",
       "        [-9.94693585e-01,  2.93084698e+00]],\n",
       "\n",
       "       [[ 4.70666441e+01,  6.18942061e+00],\n",
       "        [ 6.18942061e+00,  6.54880725e+00]],\n",
       "\n",
       "       [[ 5.46215671e+00,  8.89981413e-01],\n",
       "        [ 8.89981413e-01,  9.58509053e+00]],\n",
       "\n",
       "       [[ 1.86988564e+01,  7.34252181e+00],\n",
       "        [ 7.34252181e+00,  2.18988580e+01]],\n",
       "\n",
       "       [[ 1.00000000e-06,  0.00000000e+00],\n",
       "        [ 0.00000000e+00,  5.25575358e+00]],\n",
       "\n",
       "       [[ 1.00000000e-06,  0.00000000e+00],\n",
       "        [ 0.00000000e+00,  1.00000000e-06]],\n",
       "\n",
       "       [[ 1.00000000e-06,  0.00000000e+00],\n",
       "        [ 0.00000000e+00,  1.00000000e-06]]])"
      ]
     },
     "execution_count": 7,
     "metadata": {},
     "output_type": "execute_result"
    }
   ],
   "source": [
    "gmmodel.covariances_"
   ]
  },
  {
   "cell_type": "code",
   "execution_count": null,
   "metadata": {},
   "outputs": [],
   "source": []
  },
  {
   "cell_type": "code",
   "execution_count": null,
   "metadata": {},
   "outputs": [],
   "source": []
  }
 ],
 "metadata": {
  "kernelspec": {
   "display_name": "Python 3",
   "language": "python",
   "name": "python3"
  },
  "language_info": {
   "codemirror_mode": {
    "name": "ipython",
    "version": 3
   },
   "file_extension": ".py",
   "mimetype": "text/x-python",
   "name": "python",
   "nbconvert_exporter": "python",
   "pygments_lexer": "ipython3",
   "version": "3.6.5"
  }
 },
 "nbformat": 4,
 "nbformat_minor": 2
}
